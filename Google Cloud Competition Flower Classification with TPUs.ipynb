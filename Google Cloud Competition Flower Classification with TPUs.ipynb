{
 "cells": [
  {
   "cell_type": "code",
   "execution_count": 1,
   "metadata": {
    "execution": {
     "iopub.execute_input": "2020-11-04T19:49:13.589777Z",
     "iopub.status.busy": "2020-11-04T19:49:13.588976Z",
     "iopub.status.idle": "2020-11-04T19:49:19.894818Z",
     "shell.execute_reply": "2020-11-04T19:49:19.893969Z"
    },
    "papermill": {
     "duration": 6.329864,
     "end_time": "2020-11-04T19:49:19.894955",
     "exception": false,
     "start_time": "2020-11-04T19:49:13.565091",
     "status": "completed"
    },
    "tags": []
   },
   "outputs": [],
   "source": [
    "import numpy as np\n",
    "import pandas as pd\n",
    "import tensorflow as tf\n",
    "from kaggle_datasets import KaggleDatasets"
   ]
  },
  {
   "cell_type": "code",
   "execution_count": 2,
   "metadata": {
    "execution": {
     "iopub.execute_input": "2020-11-04T19:49:20.055390Z",
     "iopub.status.busy": "2020-11-04T19:49:19.944948Z",
     "iopub.status.idle": "2020-11-04T19:49:24.195505Z",
     "shell.execute_reply": "2020-11-04T19:49:24.194910Z"
    },
    "papermill": {
     "duration": 4.282249,
     "end_time": "2020-11-04T19:49:24.195660",
     "exception": false,
     "start_time": "2020-11-04T19:49:19.913411",
     "status": "completed"
    },
    "tags": []
   },
   "outputs": [
    {
     "name": "stdout",
     "output_type": "stream",
     "text": [
      "Running on TPU  grpc://10.0.0.2:8470\n",
      "REPLICAS:  8\n"
     ]
    }
   ],
   "source": [
    "# Detect hardware, return appropriate distribution strategy\n",
    "try:\n",
    "    tpu = tf.distribute.cluster_resolver.TPUClusterResolver()  # TPU detection. No parameters necessary if TPU_NAME environment variable is set. On Kaggle this is always the case.\n",
    "    print('Running on TPU ', tpu.master())\n",
    "except ValueError:\n",
    "    tpu = None\n",
    "\n",
    "if tpu:\n",
    "    tf.config.experimental_connect_to_cluster(tpu)\n",
    "    tf.tpu.experimental.initialize_tpu_system(tpu)\n",
    "    strategy = tf.distribute.experimental.TPUStrategy(tpu)\n",
    "else:\n",
    "    strategy = tf.distribute.get_strategy() # default distribution strategy in Tensorflow. Works on CPU and single GPU.\n",
    "\n",
    "print(\"REPLICAS: \", strategy.num_replicas_in_sync)"
   ]
  },
  {
   "cell_type": "code",
   "execution_count": 3,
   "metadata": {
    "execution": {
     "iopub.execute_input": "2020-11-04T19:49:24.245493Z",
     "iopub.status.busy": "2020-11-04T19:49:24.244708Z",
     "iopub.status.idle": "2020-11-04T19:49:24.248290Z",
     "shell.execute_reply": "2020-11-04T19:49:24.247525Z"
    },
    "papermill": {
     "duration": 0.034147,
     "end_time": "2020-11-04T19:49:24.248413",
     "exception": false,
     "start_time": "2020-11-04T19:49:24.214266",
     "status": "completed"
    },
    "tags": []
   },
   "outputs": [],
   "source": [
    "CLASSES = ['pink primrose',    'hard-leaved pocket orchid', 'canterbury bells', 'sweet pea',     'wild geranium',     'tiger lily',           'moon orchid',              'bird of paradise', 'monkshood',        'globe thistle',         # 00 - 09\n",
    "           'snapdragon',       \"colt's foot\",               'king protea',      'spear thistle', 'yellow iris',       'globe-flower',         'purple coneflower',        'peruvian lily',    'balloon flower',   'giant white arum lily', # 10 - 19\n",
    "           'fire lily',        'pincushion flower',         'fritillary',       'red ginger',    'grape hyacinth',    'corn poppy',           'prince of wales feathers', 'stemless gentian', 'artichoke',        'sweet william',         # 20 - 29\n",
    "           'carnation',        'garden phlox',              'love in the mist', 'cosmos',        'alpine sea holly',  'ruby-lipped cattleya', 'cape flower',              'great masterwort', 'siam tulip',       'lenten rose',           # 30 - 39\n",
    "           'barberton daisy',  'daffodil',                  'sword lily',       'poinsettia',    'bolero deep blue',  'wallflower',           'marigold',                 'buttercup',        'daisy',            'common dandelion',      # 40 - 49\n",
    "           'petunia',          'wild pansy',                'primula',          'sunflower',     'lilac hibiscus',    'bishop of llandaff',   'gaura',                    'geranium',         'orange dahlia',    'pink-yellow dahlia',    # 50 - 59\n",
    "           'cautleya spicata', 'japanese anemone',          'black-eyed susan', 'silverbush',    'californian poppy', 'osteospermum',         'spring crocus',            'iris',             'windflower',       'tree poppy',            # 60 - 69\n",
    "           'gazania',          'azalea',                    'water lily',       'rose',          'thorn apple',       'morning glory',        'passion flower',           'lotus',            'toad lily',        'anthurium',             # 70 - 79\n",
    "           'frangipani',       'clematis',                  'hibiscus',         'columbine',     'desert-rose',       'tree mallow',          'magnolia',                 'cyclamen ',        'watercress',       'canna lily',            # 80 - 89\n",
    "           'hippeastrum ',     'bee balm',                  'pink quill',       'foxglove',      'bougainvillea',     'camellia',             'mallow',                   'mexican petunia',  'bromelia',         'blanket flower',        # 90 - 99\n",
    "           'trumpet creeper',  'blackberry lily',           'common tulip',     'wild rose']                                                                                                                                               # 100 - 102"
   ]
  },
  {
   "cell_type": "code",
   "execution_count": 4,
   "metadata": {
    "execution": {
     "iopub.execute_input": "2020-11-04T19:49:24.306734Z",
     "iopub.status.busy": "2020-11-04T19:49:24.305991Z",
     "iopub.status.idle": "2020-11-04T19:49:24.653584Z",
     "shell.execute_reply": "2020-11-04T19:49:24.652963Z"
    },
    "papermill": {
     "duration": 0.384212,
     "end_time": "2020-11-04T19:49:24.653756",
     "exception": false,
     "start_time": "2020-11-04T19:49:24.269544",
     "status": "completed"
    },
    "tags": []
   },
   "outputs": [],
   "source": [
    "GCS_DS_PATH = KaggleDatasets().get_gcs_path()"
   ]
  },
  {
   "cell_type": "code",
   "execution_count": 5,
   "metadata": {
    "execution": {
     "iopub.execute_input": "2020-11-04T19:49:24.698326Z",
     "iopub.status.busy": "2020-11-04T19:49:24.697307Z",
     "iopub.status.idle": "2020-11-04T19:49:24.700774Z",
     "shell.execute_reply": "2020-11-04T19:49:24.700139Z"
    },
    "papermill": {
     "duration": 0.028306,
     "end_time": "2020-11-04T19:49:24.700893",
     "exception": false,
     "start_time": "2020-11-04T19:49:24.672587",
     "status": "completed"
    },
    "tags": []
   },
   "outputs": [],
   "source": [
    "IMAGE_SIZE = [192, 192]\n",
    "EPOCHS = 100\n",
    "BATCH_SIZE = 16 * strategy.num_replicas_in_sync\n",
    "\n",
    "NUM_TRAINING_IMAGES = 12753\n",
    "NUM_TEST_IMAGES = 7382\n",
    "STEPS_PER_EPOCH = NUM_TRAINING_IMAGES // BATCH_SIZE\n",
    "AUTO = tf.data.experimental.AUTOTUNE"
   ]
  },
  {
   "cell_type": "code",
   "execution_count": 6,
   "metadata": {
    "execution": {
     "iopub.execute_input": "2020-11-04T19:49:24.865626Z",
     "iopub.status.busy": "2020-11-04T19:49:24.863007Z",
     "iopub.status.idle": "2020-11-04T19:49:25.243811Z",
     "shell.execute_reply": "2020-11-04T19:49:25.243018Z"
    },
    "papermill": {
     "duration": 0.524577,
     "end_time": "2020-11-04T19:49:25.243937",
     "exception": false,
     "start_time": "2020-11-04T19:49:24.719360",
     "status": "completed"
    },
    "tags": []
   },
   "outputs": [],
   "source": [
    "def decode_image(image_data):\n",
    "    image = tf.image.decode_jpeg(image_data, channels=3)\n",
    "    image = tf.cast(image, tf.float32) / 255.0  # convert image to floats in [0, 1] range\n",
    "    image = tf.reshape(image, [*IMAGE_SIZE, 3]) # explicit size needed for TPU\n",
    "    return image\n",
    "\n",
    "def read_labeled_tfrecord(example):\n",
    "    LABELED_TFREC_FORMAT = {\n",
    "        \"image\": tf.io.FixedLenFeature([], tf.string), # tf.string means bytestring\n",
    "        \"class\": tf.io.FixedLenFeature([], tf.int64),  # shape [] means single element\n",
    "    }\n",
    "    example = tf.io.parse_single_example(example, LABELED_TFREC_FORMAT)\n",
    "    image = decode_image(example['image'])\n",
    "    label = tf.cast(example['class'], tf.int32)\n",
    "    return image, label # returns a dataset of (image, label) pairs\n",
    "\n",
    "def read_unlabeled_tfrecord(example):\n",
    "    UNLABELED_TFREC_FORMAT = {\n",
    "        \"image\": tf.io.FixedLenFeature([], tf.string), # tf.string means bytestring\n",
    "        \"id\": tf.io.FixedLenFeature([], tf.string),  # shape [] means single element\n",
    "        # class is missing, this competitions's challenge is to predict flower classes for the test dataset\n",
    "    }\n",
    "    example = tf.io.parse_single_example(example, UNLABELED_TFREC_FORMAT)\n",
    "    image = decode_image(example['image'])\n",
    "    idnum = example['id']\n",
    "    return image, idnum # returns a dataset of image(s)\n",
    "\n",
    "def load_dataset(filenames, labeled=True, ordered=False):\n",
    "    # Read from TFRecords. For optimal performance, reading from multiple files at once and\n",
    "    # disregarding data order. Order does not matter since we will be shuffling the data anyway.\n",
    "\n",
    "    ignore_order = tf.data.Options()\n",
    "    if not ordered:\n",
    "        ignore_order.experimental_deterministic = False # disable order, increase speed\n",
    "\n",
    "    dataset = tf.data.TFRecordDataset(filenames, num_parallel_reads=AUTO) # automatically interleaves reads from multiple files\n",
    "    dataset = dataset.with_options(ignore_order) # uses data as soon as it streams in, rather than in its original order\n",
    "    dataset = dataset.map(read_labeled_tfrecord if labeled else read_unlabeled_tfrecord, num_parallel_calls=AUTO)\n",
    "    # returns a dataset of (image, label) pairs if labeled=True or (image, id) pairs if labeled=False\n",
    "    return dataset\n",
    "\n",
    "def get_training_dataset():\n",
    "    dataset = load_dataset(tf.io.gfile.glob(GCS_DS_PATH + '/tfrecords-jpeg-192x192/train/*.tfrec'), labeled=True)\n",
    "    dataset = dataset.repeat() # the training dataset must repeat for several epochs\n",
    "    dataset = dataset.shuffle(2048)\n",
    "    dataset = dataset.batch(BATCH_SIZE)\n",
    "    dataset = dataset.prefetch(AUTO) # prefetch next batch while training (autotune prefetch buffer size)\n",
    "    return dataset\n",
    "\n",
    "def get_validation_dataset():\n",
    "    dataset = load_dataset(tf.io.gfile.glob(GCS_DS_PATH + '/tfrecords-jpeg-192x192/val/*.tfrec'), labeled=True, ordered=False)\n",
    "    dataset = dataset.batch(BATCH_SIZE)\n",
    "    dataset = dataset.cache()\n",
    "    dataset = dataset.prefetch(AUTO) # prefetch next batch while training (autotune prefetch buffer size)\n",
    "    return dataset\n",
    "\n",
    "def get_test_dataset(ordered=False):\n",
    "    dataset = load_dataset(tf.io.gfile.glob(GCS_DS_PATH + '/tfrecords-jpeg-192x192/test/*.tfrec'), labeled=False, ordered=ordered)\n",
    "    dataset = dataset.batch(BATCH_SIZE)\n",
    "    dataset = dataset.prefetch(AUTO) # prefetch next batch while training (autotune prefetch buffer size)\n",
    "    return dataset\n",
    "\n",
    "training_dataset = get_training_dataset()\n",
    "validation_dataset = get_validation_dataset()"
   ]
  },
  {
   "cell_type": "code",
   "execution_count": 7,
   "metadata": {
    "execution": {
     "iopub.execute_input": "2020-11-04T19:49:25.292579Z",
     "iopub.status.busy": "2020-11-04T19:49:25.291857Z",
     "iopub.status.idle": "2020-11-04T19:49:29.057928Z",
     "shell.execute_reply": "2020-11-04T19:49:29.058575Z"
    },
    "papermill": {
     "duration": 3.795311,
     "end_time": "2020-11-04T19:49:29.058826",
     "exception": false,
     "start_time": "2020-11-04T19:49:25.263515",
     "status": "completed"
    },
    "tags": []
   },
   "outputs": [
    {
     "name": "stdout",
     "output_type": "stream",
     "text": [
      "Downloading data from https://storage.googleapis.com/tensorflow/keras-applications/vgg16/vgg16_weights_tf_dim_ordering_tf_kernels_notop.h5\n",
      "58892288/58889256 [==============================] - 1s 0us/step\n"
     ]
    }
   ],
   "source": [
    "with strategy.scope():\n",
    "    pretrained_model = tf.keras.applications.VGG16(weights = 'imagenet', include_top = False, input_shape = [*IMAGE_SIZE, 3])\n",
    "    pretrained_model.trainable = False\n",
    "    \n",
    "    modelvgg = tf.keras.Sequential([\n",
    "        pretrained_model,\n",
    "        tf.keras.layers.GlobalAveragePooling2D(),\n",
    "        tf.keras.layers.Dense(104, activation = 'softmax')\n",
    "    ])\n",
    "    \n",
    "    modelvgg.compile(\n",
    "    optimizer = 'adam',\n",
    "    loss = 'sparse_categorical_crossentropy',\n",
    "    metrics = ['sparse_categorical_accuracy']\n",
    ")"
   ]
  },
  {
   "cell_type": "code",
   "execution_count": 8,
   "metadata": {
    "execution": {
     "iopub.execute_input": "2020-11-04T19:49:29.122775Z",
     "iopub.status.busy": "2020-11-04T19:49:29.117847Z",
     "iopub.status.idle": "2020-11-04T19:51:01.846582Z",
     "shell.execute_reply": "2020-11-04T19:51:01.845900Z"
    },
    "papermill": {
     "duration": 92.762299,
     "end_time": "2020-11-04T19:51:01.846799",
     "exception": false,
     "start_time": "2020-11-04T19:49:29.084500",
     "status": "completed"
    },
    "tags": []
   },
   "outputs": [
    {
     "name": "stdout",
     "output_type": "stream",
     "text": [
      "\u001b[33mWARNING: You are using pip version 20.1.1; however, version 20.2.4 is available.\r\n",
      "You should consider upgrading via the '/opt/conda/bin/python3.7 -m pip install --upgrade pip' command.\u001b[0m\r\n",
      "Downloading data from https://github.com/Callidior/keras-applications/releases/download/efficientnet/efficientnet-b7_weights_tf_dim_ordering_tf_kernels_autoaugment_notop.h5\n",
      "258441216/258434480 [==============================] - 4s 0us/step\n"
     ]
    }
   ],
   "source": [
    "!pip install -q efficientnet\n",
    "import efficientnet.tfkeras as efn\n",
    "with strategy.scope():\n",
    "    enet = efn.EfficientNetB7(\n",
    "        input_shape=(512, 512, 3),\n",
    "        weights='imagenet',\n",
    "        include_top=False\n",
    "    )\n",
    "    \n",
    "    modeleffnet = tf.keras.Sequential([\n",
    "        enet,\n",
    "        tf.keras.layers.GlobalAveragePooling2D(),\n",
    "        tf.keras.layers.Dense(len(CLASSES), activation='softmax')\n",
    "    ])\n",
    "        \n",
    "    modeleffnet.compile(\n",
    "        optimizer=tf.keras.optimizers.Adam(),\n",
    "        loss = 'sparse_categorical_crossentropy',\n",
    "        metrics=['sparse_categorical_accuracy']\n",
    "    )\n"
   ]
  },
  {
   "cell_type": "code",
   "execution_count": 9,
   "metadata": {
    "execution": {
     "iopub.execute_input": "2020-11-04T19:51:01.957623Z",
     "iopub.status.busy": "2020-11-04T19:51:01.953869Z",
     "iopub.status.idle": "2020-11-04T19:52:20.094306Z",
     "shell.execute_reply": "2020-11-04T19:52:20.095014Z"
    },
    "papermill": {
     "duration": 78.199686,
     "end_time": "2020-11-04T19:52:20.095273",
     "exception": false,
     "start_time": "2020-11-04T19:51:01.895587",
     "status": "completed"
    },
    "tags": []
   },
   "outputs": [
    {
     "name": "stdout",
     "output_type": "stream",
     "text": [
      "Downloading data from https://storage.googleapis.com/tensorflow/keras-applications/densenet/densenet201_weights_tf_dim_ordering_tf_kernels_notop.h5\n",
      "74842112/74836368 [==============================] - 2s 0us/step\n"
     ]
    }
   ],
   "source": [
    "from tensorflow.keras.applications import DenseNet201\n",
    "with strategy.scope():\n",
    "    rnet = DenseNet201(\n",
    "        input_shape=(512, 512, 3),\n",
    "        weights='imagenet',\n",
    "        include_top=False\n",
    "    )\n",
    "\n",
    "    modelden = tf.keras.Sequential([\n",
    "        rnet,\n",
    "        tf.keras.layers.GlobalAveragePooling2D(),\n",
    "        tf.keras.layers.Dense(len(CLASSES), activation='softmax')\n",
    "    ])\n",
    "        \n",
    "modelden.compile(\n",
    "    optimizer=tf.keras.optimizers.Adam(),\n",
    "    loss = 'sparse_categorical_crossentropy',\n",
    "    metrics=['sparse_categorical_accuracy']\n",
    ")"
   ]
  },
  {
   "cell_type": "code",
   "execution_count": 10,
   "metadata": {
    "execution": {
     "iopub.execute_input": "2020-11-04T19:52:20.223535Z",
     "iopub.status.busy": "2020-11-04T19:52:20.222699Z",
     "iopub.status.idle": "2020-11-04T19:53:38.644287Z",
     "shell.execute_reply": "2020-11-04T19:53:38.643245Z"
    },
    "papermill": {
     "duration": 78.492848,
     "end_time": "2020-11-04T19:53:38.644428",
     "exception": false,
     "start_time": "2020-11-04T19:52:20.151580",
     "status": "completed"
    },
    "tags": []
   },
   "outputs": [
    {
     "name": "stdout",
     "output_type": "stream",
     "text": [
      "Downloading data from https://storage.googleapis.com/tensorflow/keras-applications/inception_resnet_v2/inception_resnet_v2_weights_tf_dim_ordering_tf_kernels_notop.h5\n",
      "219062272/219055592 [==============================] - 3s 0us/step\n"
     ]
    }
   ],
   "source": [
    "from tensorflow.keras.applications import InceptionResNetV2\n",
    "with strategy.scope():\n",
    "    iresnetv2 = InceptionResNetV2(\n",
    "        input_shape=(512, 512, 3),\n",
    "        weights='imagenet',\n",
    "        include_top=False\n",
    "    )\n",
    "\n",
    "    modelinc = tf.keras.Sequential([\n",
    "        iresnetv2,\n",
    "        tf.keras.layers.Conv2D(1024, (3,3), activation='relu'),\n",
    "        tf.keras.layers.GlobalAveragePooling2D(),\n",
    "        tf.keras.layers.Flatten(),\n",
    "        tf.keras.layers.Dense(len(CLASSES), activation='softmax')\n",
    "    ])\n",
    "        \n",
    "modelinc.compile(\n",
    "    optimizer=tf.keras.optimizers.Adam(lr=0.0001),\n",
    "    loss = 'sparse_categorical_crossentropy',\n",
    "    metrics=['sparse_categorical_accuracy']\n",
    ")"
   ]
  },
  {
   "cell_type": "code",
   "execution_count": 11,
   "metadata": {
    "execution": {
     "iopub.execute_input": "2020-11-04T19:53:38.802676Z",
     "iopub.status.busy": "2020-11-04T19:53:38.801547Z",
     "iopub.status.idle": "2020-11-04T19:53:45.139833Z",
     "shell.execute_reply": "2020-11-04T19:53:45.139203Z"
    },
    "papermill": {
     "duration": 6.424687,
     "end_time": "2020-11-04T19:53:45.139967",
     "exception": false,
     "start_time": "2020-11-04T19:53:38.715280",
     "status": "completed"
    },
    "tags": []
   },
   "outputs": [
    {
     "name": "stdout",
     "output_type": "stream",
     "text": [
      "Downloading data from https://storage.googleapis.com/tensorflow/keras-applications/xception/xception_weights_tf_dim_ordering_tf_kernels_notop.h5\n",
      "83689472/83683744 [==============================] - 1s 0us/step\n"
     ]
    }
   ],
   "source": [
    "pretrained_modelxc = tf.keras.applications.Xception(weights='imagenet', input_shape=[*IMAGE_SIZE, 3], include_top=False)\n",
    "    \n",
    "pretrained_modelxc.trainable = True\n",
    "from tensorflow.keras import optimizers\n",
    "modelxc = tf.keras.Sequential([\n",
    "    pretrained_modelxc,\n",
    "    tf.keras.layers.GlobalAveragePooling2D(),\n",
    "    tf.keras.layers.Dense(len(CLASSES), activation='softmax')\n",
    "])\n",
    "\n",
    "modelxc.compile(\n",
    "    optimizer=tf.keras.optimizers.Adam(lr=0.0001),\n",
    "    loss = 'sparse_categorical_crossentropy',\n",
    "    metrics=['accuracy'])"
   ]
  },
  {
   "cell_type": "code",
   "execution_count": 12,
   "metadata": {
    "execution": {
     "iopub.execute_input": "2020-11-04T19:53:45.299658Z",
     "iopub.status.busy": "2020-11-04T19:53:45.298554Z",
     "iopub.status.idle": "2020-11-04T19:57:42.372927Z",
     "shell.execute_reply": "2020-11-04T19:57:42.372069Z"
    },
    "papermill": {
     "duration": 237.15761,
     "end_time": "2020-11-04T19:57:42.373078",
     "exception": false,
     "start_time": "2020-11-04T19:53:45.215468",
     "status": "completed"
    },
    "tags": []
   },
   "outputs": [
    {
     "name": "stdout",
     "output_type": "stream",
     "text": [
      "Epoch 1/50\n",
      "99/99 [==============================] - 13s 134ms/step - sparse_categorical_accuracy: 0.1083 - loss: 4.0357 - val_sparse_categorical_accuracy: 0.1668 - val_loss: 3.7198\n",
      "Epoch 2/50\n",
      "99/99 [==============================] - 5s 48ms/step - sparse_categorical_accuracy: 0.2002 - loss: 3.5289 - val_sparse_categorical_accuracy: 0.2376 - val_loss: 3.3771\n",
      "Epoch 3/50\n",
      "99/99 [==============================] - 4s 42ms/step - sparse_categorical_accuracy: 0.2668 - loss: 3.2213 - val_sparse_categorical_accuracy: 0.2877 - val_loss: 3.1257\n",
      "Epoch 4/50\n",
      "99/99 [==============================] - 4s 44ms/step - sparse_categorical_accuracy: 0.3255 - loss: 2.9849 - val_sparse_categorical_accuracy: 0.3367 - val_loss: 2.9276\n",
      "Epoch 5/50\n",
      "99/99 [==============================] - 4s 44ms/step - sparse_categorical_accuracy: 0.3655 - loss: 2.7989 - val_sparse_categorical_accuracy: 0.3728 - val_loss: 2.7700\n",
      "Epoch 6/50\n",
      "99/99 [==============================] - 4s 42ms/step - sparse_categorical_accuracy: 0.4008 - loss: 2.6471 - val_sparse_categorical_accuracy: 0.4025 - val_loss: 2.6374\n",
      "Epoch 7/50\n",
      "99/99 [==============================] - 4s 41ms/step - sparse_categorical_accuracy: 0.4280 - loss: 2.5188 - val_sparse_categorical_accuracy: 0.4265 - val_loss: 2.5251\n",
      "Epoch 8/50\n",
      "99/99 [==============================] - 4s 42ms/step - sparse_categorical_accuracy: 0.4596 - loss: 2.3973 - val_sparse_categorical_accuracy: 0.4472 - val_loss: 2.4296\n",
      "Epoch 9/50\n",
      "99/99 [==============================] - 4s 42ms/step - sparse_categorical_accuracy: 0.4721 - loss: 2.3098 - val_sparse_categorical_accuracy: 0.4612 - val_loss: 2.3491\n",
      "Epoch 10/50\n",
      "99/99 [==============================] - 4s 42ms/step - sparse_categorical_accuracy: 0.4927 - loss: 2.2195 - val_sparse_categorical_accuracy: 0.4749 - val_loss: 2.2778\n",
      "Epoch 11/50\n",
      "99/99 [==============================] - 4s 41ms/step - sparse_categorical_accuracy: 0.5067 - loss: 2.1467 - val_sparse_categorical_accuracy: 0.4957 - val_loss: 2.2101\n",
      "Epoch 12/50\n",
      "99/99 [==============================] - 4s 42ms/step - sparse_categorical_accuracy: 0.5250 - loss: 2.0771 - val_sparse_categorical_accuracy: 0.5067 - val_loss: 2.1569\n",
      "Epoch 13/50\n",
      "99/99 [==============================] - 5s 46ms/step - sparse_categorical_accuracy: 0.5412 - loss: 2.0143 - val_sparse_categorical_accuracy: 0.5167 - val_loss: 2.1012\n",
      "Epoch 14/50\n",
      "99/99 [==============================] - 4s 40ms/step - sparse_categorical_accuracy: 0.5522 - loss: 1.9579 - val_sparse_categorical_accuracy: 0.5291 - val_loss: 2.0554\n",
      "Epoch 15/50\n",
      "99/99 [==============================] - 4s 43ms/step - sparse_categorical_accuracy: 0.5574 - loss: 1.9208 - val_sparse_categorical_accuracy: 0.5396 - val_loss: 2.0137\n",
      "Epoch 16/50\n",
      "99/99 [==============================] - 4s 44ms/step - sparse_categorical_accuracy: 0.5718 - loss: 1.8555 - val_sparse_categorical_accuracy: 0.5466 - val_loss: 1.9767\n",
      "Epoch 17/50\n",
      "99/99 [==============================] - 4s 41ms/step - sparse_categorical_accuracy: 0.5840 - loss: 1.8233 - val_sparse_categorical_accuracy: 0.5531 - val_loss: 1.9389\n",
      "Epoch 18/50\n",
      "99/99 [==============================] - 4s 43ms/step - sparse_categorical_accuracy: 0.5921 - loss: 1.7825 - val_sparse_categorical_accuracy: 0.5614 - val_loss: 1.9073\n",
      "Epoch 19/50\n",
      "99/99 [==============================] - 4s 41ms/step - sparse_categorical_accuracy: 0.5983 - loss: 1.7476 - val_sparse_categorical_accuracy: 0.5682 - val_loss: 1.8762\n",
      "Epoch 20/50\n",
      "99/99 [==============================] - 4s 42ms/step - sparse_categorical_accuracy: 0.6089 - loss: 1.7054 - val_sparse_categorical_accuracy: 0.5717 - val_loss: 1.8496\n",
      "Epoch 21/50\n",
      "99/99 [==============================] - 4s 42ms/step - sparse_categorical_accuracy: 0.6145 - loss: 1.6784 - val_sparse_categorical_accuracy: 0.5795 - val_loss: 1.8221\n",
      "Epoch 22/50\n",
      "99/99 [==============================] - 6s 58ms/step - sparse_categorical_accuracy: 0.6195 - loss: 1.6456 - val_sparse_categorical_accuracy: 0.5792 - val_loss: 1.7972\n",
      "Epoch 23/50\n",
      "99/99 [==============================] - 4s 41ms/step - sparse_categorical_accuracy: 0.6234 - loss: 1.6198 - val_sparse_categorical_accuracy: 0.5862 - val_loss: 1.7758\n",
      "Epoch 24/50\n",
      "99/99 [==============================] - 4s 40ms/step - sparse_categorical_accuracy: 0.6310 - loss: 1.5937 - val_sparse_categorical_accuracy: 0.5857 - val_loss: 1.7517\n",
      "Epoch 25/50\n",
      "99/99 [==============================] - 4s 43ms/step - sparse_categorical_accuracy: 0.6400 - loss: 1.5624 - val_sparse_categorical_accuracy: 0.5967 - val_loss: 1.7327\n",
      "Epoch 26/50\n",
      "99/99 [==============================] - 4s 41ms/step - sparse_categorical_accuracy: 0.6454 - loss: 1.5364 - val_sparse_categorical_accuracy: 0.5962 - val_loss: 1.7141\n",
      "Epoch 27/50\n",
      "99/99 [==============================] - 4s 43ms/step - sparse_categorical_accuracy: 0.6472 - loss: 1.5197 - val_sparse_categorical_accuracy: 0.5924 - val_loss: 1.6959\n",
      "Epoch 28/50\n",
      "99/99 [==============================] - 4s 43ms/step - sparse_categorical_accuracy: 0.6531 - loss: 1.5012 - val_sparse_categorical_accuracy: 0.6021 - val_loss: 1.6797\n",
      "Epoch 29/50\n",
      "99/99 [==============================] - 4s 41ms/step - sparse_categorical_accuracy: 0.6562 - loss: 1.4791 - val_sparse_categorical_accuracy: 0.6102 - val_loss: 1.6638\n",
      "Epoch 30/50\n",
      "99/99 [==============================] - 4s 43ms/step - sparse_categorical_accuracy: 0.6642 - loss: 1.4504 - val_sparse_categorical_accuracy: 0.6083 - val_loss: 1.6460\n",
      "Epoch 31/50\n",
      "99/99 [==============================] - 4s 41ms/step - sparse_categorical_accuracy: 0.6622 - loss: 1.4425 - val_sparse_categorical_accuracy: 0.6078 - val_loss: 1.6368\n",
      "Epoch 32/50\n",
      "99/99 [==============================] - 4s 41ms/step - sparse_categorical_accuracy: 0.6717 - loss: 1.4093 - val_sparse_categorical_accuracy: 0.6110 - val_loss: 1.6195\n",
      "Epoch 33/50\n",
      "99/99 [==============================] - 4s 43ms/step - sparse_categorical_accuracy: 0.6730 - loss: 1.4007 - val_sparse_categorical_accuracy: 0.6156 - val_loss: 1.6076\n",
      "Epoch 34/50\n",
      "99/99 [==============================] - 4s 45ms/step - sparse_categorical_accuracy: 0.6790 - loss: 1.3783 - val_sparse_categorical_accuracy: 0.6172 - val_loss: 1.5950\n",
      "Epoch 35/50\n",
      "99/99 [==============================] - 4s 44ms/step - sparse_categorical_accuracy: 0.6794 - loss: 1.3647 - val_sparse_categorical_accuracy: 0.6199 - val_loss: 1.5815\n",
      "Epoch 36/50\n",
      "99/99 [==============================] - 4s 42ms/step - sparse_categorical_accuracy: 0.6860 - loss: 1.3500 - val_sparse_categorical_accuracy: 0.6175 - val_loss: 1.5729\n",
      "Epoch 37/50\n",
      "99/99 [==============================] - 4s 43ms/step - sparse_categorical_accuracy: 0.6881 - loss: 1.3315 - val_sparse_categorical_accuracy: 0.6226 - val_loss: 1.5590\n",
      "Epoch 38/50\n",
      "99/99 [==============================] - 5s 46ms/step - sparse_categorical_accuracy: 0.6877 - loss: 1.3183 - val_sparse_categorical_accuracy: 0.6272 - val_loss: 1.5469\n",
      "Epoch 39/50\n",
      "99/99 [==============================] - 4s 42ms/step - sparse_categorical_accuracy: 0.6922 - loss: 1.3097 - val_sparse_categorical_accuracy: 0.6258 - val_loss: 1.5372\n",
      "Epoch 40/50\n",
      "99/99 [==============================] - 4s 41ms/step - sparse_categorical_accuracy: 0.6959 - loss: 1.2899 - val_sparse_categorical_accuracy: 0.6272 - val_loss: 1.5299\n",
      "Epoch 41/50\n",
      "99/99 [==============================] - 4s 44ms/step - sparse_categorical_accuracy: 0.6985 - loss: 1.2772 - val_sparse_categorical_accuracy: 0.6282 - val_loss: 1.5208\n",
      "Epoch 42/50\n",
      "99/99 [==============================] - 4s 43ms/step - sparse_categorical_accuracy: 0.7000 - loss: 1.2659 - val_sparse_categorical_accuracy: 0.6320 - val_loss: 1.5098\n",
      "Epoch 43/50\n",
      "99/99 [==============================] - 4s 44ms/step - sparse_categorical_accuracy: 0.7055 - loss: 1.2535 - val_sparse_categorical_accuracy: 0.6355 - val_loss: 1.5007\n",
      "Epoch 44/50\n",
      "99/99 [==============================] - 4s 42ms/step - sparse_categorical_accuracy: 0.7062 - loss: 1.2362 - val_sparse_categorical_accuracy: 0.6374 - val_loss: 1.4919\n",
      "Epoch 45/50\n",
      "99/99 [==============================] - 4s 44ms/step - sparse_categorical_accuracy: 0.7101 - loss: 1.2332 - val_sparse_categorical_accuracy: 0.6377 - val_loss: 1.4840\n",
      "Epoch 46/50\n",
      "99/99 [==============================] - 4s 43ms/step - sparse_categorical_accuracy: 0.7136 - loss: 1.2143 - val_sparse_categorical_accuracy: 0.6350 - val_loss: 1.4785\n",
      "Epoch 47/50\n",
      "99/99 [==============================] - 4s 42ms/step - sparse_categorical_accuracy: 0.7137 - loss: 1.2048 - val_sparse_categorical_accuracy: 0.6401 - val_loss: 1.4711\n",
      "Epoch 48/50\n",
      "99/99 [==============================] - 4s 42ms/step - sparse_categorical_accuracy: 0.7202 - loss: 1.1925 - val_sparse_categorical_accuracy: 0.6449 - val_loss: 1.4611\n",
      "Epoch 49/50\n",
      "99/99 [==============================] - 4s 43ms/step - sparse_categorical_accuracy: 0.7210 - loss: 1.1817 - val_sparse_categorical_accuracy: 0.6463 - val_loss: 1.4549\n",
      "Epoch 50/50\n",
      "99/99 [==============================] - 4s 43ms/step - sparse_categorical_accuracy: 0.7208 - loss: 1.1752 - val_sparse_categorical_accuracy: 0.6484 - val_loss: 1.4487\n"
     ]
    }
   ],
   "source": [
    "historyvgg = modelvgg.fit(training_dataset,\n",
    "                   steps_per_epoch = STEPS_PER_EPOCH,\n",
    "                   epochs = 50,\n",
    "                   validation_data = validation_dataset)"
   ]
  },
  {
   "cell_type": "code",
   "execution_count": 13,
   "metadata": {
    "execution": {
     "iopub.execute_input": "2020-11-04T19:57:44.598883Z",
     "iopub.status.busy": "2020-11-04T19:57:44.597818Z",
     "iopub.status.idle": "2020-11-04T20:04:42.456876Z",
     "shell.execute_reply": "2020-11-04T20:04:42.456055Z"
    },
    "papermill": {
     "duration": 418.943331,
     "end_time": "2020-11-04T20:04:42.457032",
     "exception": false,
     "start_time": "2020-11-04T19:57:43.513701",
     "status": "completed"
    },
    "tags": []
   },
   "outputs": [
    {
     "name": "stdout",
     "output_type": "stream",
     "text": [
      "Epoch 1/10\n",
      "99/99 [==============================] - 46s 469ms/step - sparse_categorical_accuracy: 0.6364 - loss: 1.4972 - val_sparse_categorical_accuracy: 0.2923 - val_loss: 3.6537\n",
      "Epoch 2/10\n",
      "99/99 [==============================] - 19s 192ms/step - sparse_categorical_accuracy: 0.8457 - loss: 0.5825 - val_sparse_categorical_accuracy: 0.7276 - val_loss: 1.1123\n",
      "Epoch 3/10\n",
      "99/99 [==============================] - 19s 192ms/step - sparse_categorical_accuracy: 0.8960 - loss: 0.3777 - val_sparse_categorical_accuracy: 0.7831 - val_loss: 0.8670\n",
      "Epoch 4/10\n",
      "99/99 [==============================] - 19s 192ms/step - sparse_categorical_accuracy: 0.9303 - loss: 0.2524 - val_sparse_categorical_accuracy: 0.7333 - val_loss: 1.1222\n",
      "Epoch 5/10\n",
      "99/99 [==============================] - 19s 194ms/step - sparse_categorical_accuracy: 0.9455 - loss: 0.1904 - val_sparse_categorical_accuracy: 0.7107 - val_loss: 1.1753\n",
      "Epoch 6/10\n",
      "99/99 [==============================] - 19s 194ms/step - sparse_categorical_accuracy: 0.9549 - loss: 0.1568 - val_sparse_categorical_accuracy: 0.7734 - val_loss: 0.9464\n",
      "Epoch 7/10\n",
      "99/99 [==============================] - 19s 189ms/step - sparse_categorical_accuracy: 0.9660 - loss: 0.1215 - val_sparse_categorical_accuracy: 0.7468 - val_loss: 1.0431\n",
      "Epoch 8/10\n",
      "99/99 [==============================] - 19s 191ms/step - sparse_categorical_accuracy: 0.9676 - loss: 0.1087 - val_sparse_categorical_accuracy: 0.7476 - val_loss: 1.1397\n",
      "Epoch 9/10\n",
      "99/99 [==============================] - 19s 190ms/step - sparse_categorical_accuracy: 0.9681 - loss: 0.1096 - val_sparse_categorical_accuracy: 0.7645 - val_loss: 1.0451\n",
      "Epoch 10/10\n",
      "99/99 [==============================] - 19s 194ms/step - sparse_categorical_accuracy: 0.9728 - loss: 0.0980 - val_sparse_categorical_accuracy: 0.8001 - val_loss: 0.9108\n"
     ]
    }
   ],
   "source": [
    "historyden = modelden.fit(training_dataset,\n",
    "                   steps_per_epoch = STEPS_PER_EPOCH,\n",
    "                   epochs = 10,\n",
    "                   validation_data = validation_dataset)"
   ]
  },
  {
   "cell_type": "code",
   "execution_count": 14,
   "metadata": {
    "execution": {
     "iopub.execute_input": "2020-11-04T20:04:45.404389Z",
     "iopub.status.busy": "2020-11-04T20:04:45.384844Z",
     "iopub.status.idle": "2020-11-04T20:13:43.081001Z",
     "shell.execute_reply": "2020-11-04T20:13:43.080296Z"
    },
    "papermill": {
     "duration": 539.169765,
     "end_time": "2020-11-04T20:13:43.081146",
     "exception": false,
     "start_time": "2020-11-04T20:04:43.911381",
     "status": "completed"
    },
    "tags": []
   },
   "outputs": [
    {
     "name": "stdout",
     "output_type": "stream",
     "text": [
      "Epoch 1/10\n",
      "99/99 [==============================] - 54s 549ms/step - sparse_categorical_accuracy: 0.5380 - loss: 1.9707 - val_sparse_categorical_accuracy: 0.6263 - val_loss: 1.5627\n",
      "Epoch 2/10\n",
      "99/99 [==============================] - 26s 263ms/step - sparse_categorical_accuracy: 0.8070 - loss: 0.7186 - val_sparse_categorical_accuracy: 0.7920 - val_loss: 0.9089\n",
      "Epoch 3/10\n",
      "99/99 [==============================] - 26s 266ms/step - sparse_categorical_accuracy: 0.8762 - loss: 0.4437 - val_sparse_categorical_accuracy: 0.8470 - val_loss: 0.7293\n",
      "Epoch 4/10\n",
      "99/99 [==============================] - 26s 266ms/step - sparse_categorical_accuracy: 0.9169 - loss: 0.2862 - val_sparse_categorical_accuracy: 0.8570 - val_loss: 0.6718\n",
      "Epoch 5/10\n",
      "99/99 [==============================] - 27s 268ms/step - sparse_categorical_accuracy: 0.9343 - loss: 0.2204 - val_sparse_categorical_accuracy: 0.8790 - val_loss: 0.5931\n",
      "Epoch 6/10\n",
      "99/99 [==============================] - 26s 266ms/step - sparse_categorical_accuracy: 0.9463 - loss: 0.1870 - val_sparse_categorical_accuracy: 0.8772 - val_loss: 0.6138\n",
      "Epoch 7/10\n",
      "99/99 [==============================] - 26s 265ms/step - sparse_categorical_accuracy: 0.9553 - loss: 0.1483 - val_sparse_categorical_accuracy: 0.8599 - val_loss: 0.7875\n",
      "Epoch 8/10\n",
      "99/99 [==============================] - 26s 265ms/step - sparse_categorical_accuracy: 0.9594 - loss: 0.1306 - val_sparse_categorical_accuracy: 0.8809 - val_loss: 0.7396\n",
      "Epoch 9/10\n",
      "99/99 [==============================] - 26s 265ms/step - sparse_categorical_accuracy: 0.9676 - loss: 0.1106 - val_sparse_categorical_accuracy: 0.8656 - val_loss: 0.7065\n",
      "Epoch 10/10\n",
      "99/99 [==============================] - 27s 269ms/step - sparse_categorical_accuracy: 0.9708 - loss: 0.0973 - val_sparse_categorical_accuracy: 0.8766 - val_loss: 0.7203\n"
     ]
    }
   ],
   "source": [
    "historyeffnet = modeleffnet.fit(training_dataset,\n",
    "                   steps_per_epoch = STEPS_PER_EPOCH,\n",
    "                   epochs = 10,\n",
    "                   validation_data = validation_dataset)"
   ]
  },
  {
   "cell_type": "code",
   "execution_count": 15,
   "metadata": {
    "execution": {
     "iopub.execute_input": "2020-11-04T20:13:46.913931Z",
     "iopub.status.busy": "2020-11-04T20:13:46.912999Z",
     "iopub.status.idle": "2020-11-04T20:20:43.960052Z",
     "shell.execute_reply": "2020-11-04T20:20:43.959294Z"
    },
    "papermill": {
     "duration": 418.953907,
     "end_time": "2020-11-04T20:20:43.960193",
     "exception": false,
     "start_time": "2020-11-04T20:13:45.006286",
     "status": "completed"
    },
    "tags": []
   },
   "outputs": [
    {
     "name": "stdout",
     "output_type": "stream",
     "text": [
      "Epoch 1/10\n",
      "99/99 [==============================] - 49s 493ms/step - sparse_categorical_accuracy: 0.5342 - loss: 2.0015 - val_sparse_categorical_accuracy: 0.6336 - val_loss: 1.5358\n",
      "Epoch 2/10\n",
      "99/99 [==============================] - 20s 199ms/step - sparse_categorical_accuracy: 0.8467 - loss: 0.5632 - val_sparse_categorical_accuracy: 0.8103 - val_loss: 0.8437\n",
      "Epoch 3/10\n",
      "99/99 [==============================] - 20s 200ms/step - sparse_categorical_accuracy: 0.9463 - loss: 0.2033 - val_sparse_categorical_accuracy: 0.8273 - val_loss: 0.9465\n",
      "Epoch 4/10\n",
      "99/99 [==============================] - 20s 202ms/step - sparse_categorical_accuracy: 0.9791 - loss: 0.0782 - val_sparse_categorical_accuracy: 0.8082 - val_loss: 7.0818\n",
      "Epoch 5/10\n",
      "99/99 [==============================] - 20s 201ms/step - sparse_categorical_accuracy: 0.9848 - loss: 0.0566 - val_sparse_categorical_accuracy: 0.8187 - val_loss: 2.9189\n",
      "Epoch 6/10\n",
      "99/99 [==============================] - 20s 200ms/step - sparse_categorical_accuracy: 0.9860 - loss: 0.0507 - val_sparse_categorical_accuracy: 0.8214 - val_loss: 3.1891\n",
      "Epoch 7/10\n",
      "99/99 [==============================] - 20s 201ms/step - sparse_categorical_accuracy: 0.9918 - loss: 0.0342 - val_sparse_categorical_accuracy: 0.8314 - val_loss: 2.6283\n",
      "Epoch 8/10\n",
      "99/99 [==============================] - 20s 199ms/step - sparse_categorical_accuracy: 0.9930 - loss: 0.0253 - val_sparse_categorical_accuracy: 0.8346 - val_loss: 2.5170\n",
      "Epoch 9/10\n",
      "99/99 [==============================] - 20s 199ms/step - sparse_categorical_accuracy: 0.9960 - loss: 0.0170 - val_sparse_categorical_accuracy: 0.8327 - val_loss: 3.0164\n",
      "Epoch 10/10\n",
      "99/99 [==============================] - 20s 202ms/step - sparse_categorical_accuracy: 0.9913 - loss: 0.0301 - val_sparse_categorical_accuracy: 0.8246 - val_loss: 3.3877\n"
     ]
    }
   ],
   "source": [
    "historyinc = modelinc.fit(training_dataset,\n",
    "                   steps_per_epoch = STEPS_PER_EPOCH,\n",
    "                   epochs = 10,\n",
    "                   validation_data = validation_dataset)"
   ]
  },
  {
   "cell_type": "code",
   "execution_count": 16,
   "metadata": {
    "execution": {
     "iopub.execute_input": "2020-11-04T20:20:48.698888Z",
     "iopub.status.busy": "2020-11-04T20:20:48.697825Z",
     "iopub.status.idle": "2020-11-04T22:14:23.155452Z",
     "shell.execute_reply": "2020-11-04T22:14:23.154656Z"
    },
    "papermill": {
     "duration": 6816.82732,
     "end_time": "2020-11-04T22:14:23.155586",
     "exception": false,
     "start_time": "2020-11-04T20:20:46.328266",
     "status": "completed"
    },
    "tags": []
   },
   "outputs": [
    {
     "name": "stdout",
     "output_type": "stream",
     "text": [
      "Epoch 1/15\n",
      "99/99 [==============================] - 447s 5s/step - loss: 2.9147 - accuracy: 0.4033 - val_loss: 1.9543 - val_accuracy: 0.5304\n",
      "Epoch 2/15\n",
      "99/99 [==============================] - 449s 5s/step - loss: 1.0752 - accuracy: 0.7720 - val_loss: 0.9909 - val_accuracy: 0.7718\n",
      "Epoch 3/15\n",
      "99/99 [==============================] - 448s 5s/step - loss: 0.4324 - accuracy: 0.9159 - val_loss: 0.7374 - val_accuracy: 0.8367\n",
      "Epoch 4/15\n",
      "99/99 [==============================] - 450s 5s/step - loss: 0.1633 - accuracy: 0.9771 - val_loss: 0.6233 - val_accuracy: 0.8529\n",
      "Epoch 5/15\n",
      "99/99 [==============================] - 449s 5s/step - loss: 0.0633 - accuracy: 0.9943 - val_loss: 0.5767 - val_accuracy: 0.8578\n",
      "Epoch 6/15\n",
      "99/99 [==============================] - 450s 5s/step - loss: 0.0292 - accuracy: 0.9985 - val_loss: 0.5594 - val_accuracy: 0.8607\n",
      "Epoch 7/15\n",
      "99/99 [==============================] - 447s 5s/step - loss: 0.0164 - accuracy: 0.9994 - val_loss: 0.5539 - val_accuracy: 0.8618\n",
      "Epoch 8/15\n",
      "99/99 [==============================] - 448s 5s/step - loss: 0.0098 - accuracy: 0.9998 - val_loss: 0.5539 - val_accuracy: 0.8594\n",
      "Epoch 9/15\n",
      "99/99 [==============================] - 449s 5s/step - loss: 0.0072 - accuracy: 0.9999 - val_loss: 0.5528 - val_accuracy: 0.8586\n",
      "Epoch 10/15\n",
      "99/99 [==============================] - 452s 5s/step - loss: 0.0051 - accuracy: 0.9999 - val_loss: 0.5551 - val_accuracy: 0.8599\n",
      "Epoch 11/15\n",
      "99/99 [==============================] - 450s 5s/step - loss: 0.0040 - accuracy: 1.0000 - val_loss: 0.5562 - val_accuracy: 0.8596\n",
      "Epoch 12/15\n",
      "99/99 [==============================] - 450s 5s/step - loss: 0.0032 - accuracy: 1.0000 - val_loss: 0.5598 - val_accuracy: 0.8602\n",
      "Epoch 13/15\n",
      "99/99 [==============================] - 450s 5s/step - loss: 0.0027 - accuracy: 1.0000 - val_loss: 0.5617 - val_accuracy: 0.8583\n",
      "Epoch 14/15\n",
      "99/99 [==============================] - 450s 5s/step - loss: 0.0024 - accuracy: 1.0000 - val_loss: 0.5604 - val_accuracy: 0.8578\n",
      "Epoch 15/15\n",
      "99/99 [==============================] - 447s 5s/step - loss: 0.0020 - accuracy: 1.0000 - val_loss: 0.5644 - val_accuracy: 0.8586\n"
     ]
    }
   ],
   "source": [
    "historyxc = modelxc.fit(training_dataset,\n",
    "                   steps_per_epoch = STEPS_PER_EPOCH,\n",
    "                   epochs = 15,\n",
    "                   validation_data = validation_dataset)"
   ]
  },
  {
   "cell_type": "code",
   "execution_count": 17,
   "metadata": {
    "execution": {
     "iopub.execute_input": "2020-11-04T22:14:29.028157Z",
     "iopub.status.busy": "2020-11-04T22:14:29.026969Z",
     "iopub.status.idle": "2020-11-04T22:14:29.263937Z",
     "shell.execute_reply": "2020-11-04T22:14:29.263135Z"
    },
    "papermill": {
     "duration": 3.235259,
     "end_time": "2020-11-04T22:14:29.264077",
     "exception": false,
     "start_time": "2020-11-04T22:14:26.028818",
     "status": "completed"
    },
    "tags": []
   },
   "outputs": [],
   "source": [
    "test_ds = get_test_dataset(ordered=True) # since we are splitting the dataset and iterating separately on images and ids, order matters.\n",
    "test_images_ds = test_ds.map(lambda image, idnum: image)"
   ]
  },
  {
   "cell_type": "code",
   "execution_count": 18,
   "metadata": {
    "execution": {
     "iopub.execute_input": "2020-11-04T22:14:35.102039Z",
     "iopub.status.busy": "2020-11-04T22:14:35.101065Z",
     "iopub.status.idle": "2020-11-04T22:17:53.386471Z",
     "shell.execute_reply": "2020-11-04T22:17:53.385811Z"
    },
    "papermill": {
     "duration": 201.181145,
     "end_time": "2020-11-04T22:17:53.386639",
     "exception": false,
     "start_time": "2020-11-04T22:14:32.205494",
     "status": "completed"
    },
    "tags": []
   },
   "outputs": [],
   "source": [
    "vgg_probabilities = modelvgg.predict(test_images_ds)\n",
    "den_probabilities = modelden.predict(test_images_ds)\n",
    "effnet_probabilities = modeleffnet.predict(test_images_ds)\n",
    "inc_probabilities = modelinc.predict(test_images_ds)\n",
    "xc_probabilities = modelxc.predict(test_images_ds)"
   ]
  },
  {
   "cell_type": "code",
   "execution_count": 19,
   "metadata": {
    "execution": {
     "iopub.execute_input": "2020-11-04T22:17:59.167824Z",
     "iopub.status.busy": "2020-11-04T22:17:59.166958Z",
     "iopub.status.idle": "2020-11-04T22:17:59.188012Z",
     "shell.execute_reply": "2020-11-04T22:17:59.186496Z"
    },
    "papermill": {
     "duration": 2.935189,
     "end_time": "2020-11-04T22:17:59.188207",
     "exception": false,
     "start_time": "2020-11-04T22:17:56.253018",
     "status": "completed"
    },
    "tags": []
   },
   "outputs": [
    {
     "name": "stdout",
     "output_type": "stream",
     "text": [
      "Computing predictions...\n",
      "[ 67  28  83 ...  73 102  62]\n"
     ]
    }
   ],
   "source": [
    "\n",
    "print('Computing predictions...')\n",
    "\n",
    "probabilities = np.mean(\n",
    "    [\n",
    "        den_probabilities,\n",
    "        vgg_probabilities,\n",
    "        inc_probabilities,\n",
    "        xc_probabilities,\n",
    "        effnet_probabilities\n",
    "    ],\n",
    "    axis=0\n",
    ")\n",
    "\n",
    "predictions = np.argmax(probabilities, axis=-1)\n",
    "print(predictions)"
   ]
  },
  {
   "cell_type": "code",
   "execution_count": 20,
   "metadata": {
    "execution": {
     "iopub.execute_input": "2020-11-04T22:18:04.989137Z",
     "iopub.status.busy": "2020-11-04T22:18:04.988353Z",
     "iopub.status.idle": "2020-11-04T22:18:06.261179Z",
     "shell.execute_reply": "2020-11-04T22:18:06.260338Z"
    },
    "papermill": {
     "duration": 4.146459,
     "end_time": "2020-11-04T22:18:06.261317",
     "exception": false,
     "start_time": "2020-11-04T22:18:02.114858",
     "status": "completed"
    },
    "tags": []
   },
   "outputs": [
    {
     "name": "stdout",
     "output_type": "stream",
     "text": [
      "Generating submission.csv file...\n"
     ]
    }
   ],
   "source": [
    "print('Generating submission.csv file...')\n",
    "test_ids_ds = test_ds.map(lambda image, idnum: idnum).unbatch()\n",
    "test_ids = next(iter(test_ids_ds.batch(NUM_TEST_IMAGES))).numpy().astype('U') # all in one batch\n",
    "np.savetxt('submission.csv', np.rec.fromarrays([test_ids, predictions]), fmt=['%s', '%d'], delimiter=',', header='id,label', comments='')"
   ]
  },
  {
   "cell_type": "code",
   "execution_count": null,
   "metadata": {
    "papermill": {
     "duration": 2.868885,
     "end_time": "2020-11-04T22:18:12.072157",
     "exception": false,
     "start_time": "2020-11-04T22:18:09.203272",
     "status": "completed"
    },
    "tags": []
   },
   "outputs": [],
   "source": []
  }
 ],
 "metadata": {
  "kernelspec": {
   "display_name": "Python 3",
   "language": "python",
   "name": "python3"
  },
  "language_info": {
   "codemirror_mode": {
    "name": "ipython",
    "version": 3
   },
   "file_extension": ".py",
   "mimetype": "text/x-python",
   "name": "python",
   "nbconvert_exporter": "python",
   "pygments_lexer": "ipython3",
   "version": "3.7.6"
  },
  "papermill": {
   "duration": 8947.505923,
   "end_time": "2020-11-04T22:18:16.125042",
   "environment_variables": {},
   "exception": null,
   "input_path": "__notebook__.ipynb",
   "output_path": "__notebook__.ipynb",
   "parameters": {},
   "start_time": "2020-11-04T19:49:08.619119",
   "version": "2.1.0"
  }
 },
 "nbformat": 4,
 "nbformat_minor": 4
}
