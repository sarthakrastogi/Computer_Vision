{
 "cells": [
  {
   "cell_type": "markdown",
   "metadata": {
    "id": "tnso-MIWgQr6"
   },
   "source": [
    "Credits: YOLO repo https://github.com/ultralytics/yolov3"
   ]
  },
  {
   "cell_type": "code",
   "execution_count": null,
   "metadata": {
    "colab": {
     "base_uri": "https://localhost:8080/"
    },
    "executionInfo": {
     "elapsed": 22113,
     "status": "ok",
     "timestamp": 1604586943631,
     "user": {
      "displayName": "Sarthak Rastogi",
      "photoUrl": "https://lh3.googleusercontent.com/a-/AOh14Gju2mNh-CIUs6e_EgYdv7eWpyCq5RUtF0XfW0PgJUM=s64",
      "userId": "13011506269675720653"
     },
     "user_tz": -330
    },
    "id": "pGL7bDSN1Vbo",
    "outputId": "5d8c3b9d-ef7d-49af-e93a-68a3f9e6d89a"
   },
   "outputs": [
    {
     "name": "stdout",
     "output_type": "stream",
     "text": [
      "Mounted at /content/drive\n"
     ]
    }
   ],
   "source": [
    "from google.colab import drive\n",
    "drive.mount('/content/drive')"
   ]
  },
  {
   "cell_type": "markdown",
   "metadata": {
    "id": "XV8PhANkuv-X"
   },
   "source": [
    "#YOLO on Video 1"
   ]
  },
  {
   "cell_type": "code",
   "execution_count": 25,
   "metadata": {
    "colab": {
     "base_uri": "https://localhost:8080/"
    },
    "executionInfo": {
     "elapsed": 1451,
     "status": "ok",
     "timestamp": 1604647641976,
     "user": {
      "displayName": "Sarthak Rastogi",
      "photoUrl": "https://lh3.googleusercontent.com/a-/AOh14Gju2mNh-CIUs6e_EgYdv7eWpyCq5RUtF0XfW0PgJUM=s64",
      "userId": "13011506269675720653"
     },
     "user_tz": -330
    },
    "id": "jMPpAW-buy55",
    "outputId": "b315a9c8-54f1-4424-cba1-e0e79f79d583"
   },
   "outputs": [
    {
     "name": "stdout",
     "output_type": "stream",
     "text": [
      "fatal: destination path 'yolov3' already exists and is not an empty directory.\n"
     ]
    }
   ],
   "source": [
    "!git clone https://github.com/ultralytics/yolov3"
   ]
  },
  {
   "cell_type": "code",
   "execution_count": 26,
   "metadata": {
    "colab": {
     "base_uri": "https://localhost:8080/"
    },
    "executionInfo": {
     "elapsed": 1908,
     "status": "ok",
     "timestamp": 1604647653929,
     "user": {
      "displayName": "Sarthak Rastogi",
      "photoUrl": "https://lh3.googleusercontent.com/a-/AOh14Gju2mNh-CIUs6e_EgYdv7eWpyCq5RUtF0XfW0PgJUM=s64",
      "userId": "13011506269675720653"
     },
     "user_tz": -330
    },
    "id": "eg9youPBvHBa",
    "outputId": "92d89529-b5eb-429a-82fa-b231f070217e"
   },
   "outputs": [
    {
     "name": "stdout",
     "output_type": "stream",
     "text": [
      "/content/yolov3\n",
      "Using CUDA device0 _CudaDeviceProperties(name='Tesla T4', total_memory=15079MB)\n",
      "\n",
      "Model Summary: 225 layers, 6.29987e+07 parameters, 6.29987e+07 gradients\n",
      "/content\n"
     ]
    }
   ],
   "source": [
    "%cd yolov3\n",
    "import time\n",
    "import glob\n",
    "import torch\n",
    "import os\n",
    "\n",
    "import argparse\n",
    "from sys import platform\n",
    "\n",
    "from models import *\n",
    "from utils.datasets import *\n",
    "from utils.utils import *\n",
    "\n",
    "from IPython.display import HTML\n",
    "from base64 import b64encode\n",
    "\n",
    "parser = argparse.ArgumentParser()\n",
    "parser.add_argument('--cfg', type=str, default='cfg/yolov3-spp.cfg', help='*.cfg path')\n",
    "parser.add_argument('--names', type=str, default='data/coco.names', help='*.names path')\n",
    "parser.add_argument('--weights', type=str, default='weights/yolov3-spp-ultralytics.pt', help='weights path')\n",
    "\n",
    "parser.add_argument('--img-size', type=int, default=416, help='inference size (pixels)')\n",
    "parser.add_argument('--conf-thres', type=float, default=0.3, help='object confidence threshold')\n",
    "parser.add_argument('--iou-thres', type=float, default=0.6, help='IOU threshold for NMS')\n",
    "\n",
    "\n",
    "parser.add_argument('--device', default='', help='device id (i.e. 0 or 0,1) or cpu')\n",
    "\n",
    "\n",
    "parser.add_argument('--classes', nargs='+', type=int, help='filter by class')\n",
    "parser.add_argument('--agnostic-nms', action='store_true', help='class-agnostic NMS')\n",
    "opt = parser.parse_args(args = [])\n",
    "\n",
    "weights = opt.weights\n",
    "img_size =  opt.img_size\n",
    "device = torch_utils.select_device(device='cpu' if ONNX_EXPORT else opt.device)\n",
    "\n",
    "model = Darknet(opt.cfg, img_size)\n",
    "\n",
    "attempt_download(weights)\n",
    "if weights.endswith('.pt'):\n",
    "    model.load_state_dict(torch.load(weights, map_location=device)['model'])\n",
    "else:\n",
    "    load_darknet_weights(model, weights)\n",
    "\n",
    "model.to(device).eval();\n",
    "\n",
    "names = load_classes(opt.names)\n",
    "colors = [[random.randint(0, 255) for _ in range(3)] for _ in range(len(names))]\n",
    "\n",
    "%cd .. \n",
    "\n",
    "def predict_one_video(path_video, output_dir = 'output'): \n",
    "\n",
    "    if not os.path.exists(output_dir):\n",
    "        os.makedirs(output_dir)\n",
    "\n",
    "    cap  = cv2.VideoCapture(path_video)\n",
    "    _, img0 = cap.read()\n",
    "\n",
    "    save_path = os.path.join(output_dir, os.path.split(path_video)[-1]) \n",
    "    fps = cap.get(cv2.CAP_PROP_FPS)\n",
    "    w = int(cap.get(cv2.CAP_PROP_FRAME_WIDTH))\n",
    "    h = int(cap.get(cv2.CAP_PROP_FRAME_HEIGHT))\n",
    "    vid_writer = cv2.VideoWriter(save_path, cv2.VideoWriter_fourcc(*'MP4V'), fps, (w, h))\n",
    "\n",
    "    while img0 is not None: \n",
    "\n",
    "        img = letterbox(img0, new_shape=opt.img_size)[0]\n",
    "\n",
    "        img = img[:, :, ::-1].transpose(2, 0, 1)\n",
    "        img = np.ascontiguousarray(img)\n",
    "\n",
    "        img = torch.from_numpy(img).to(device)\n",
    "        img = img.float()\n",
    "        img /= 255.0\n",
    "        if img.ndimension() == 3:\n",
    "            img = img.unsqueeze(0)\n",
    "\n",
    "        pred = model(img)[0]\n",
    "\n",
    "        pred = non_max_suppression(pred, opt.conf_thres, opt.iou_thres, classes=opt.classes, agnostic=opt.agnostic_nms)\n",
    "\n",
    "        for i, det in enumerate(pred):\n",
    "            im0 = img0\n",
    "\n",
    "            if det is not None and len(det):\n",
    "                det[:, :4] = scale_coords(img.shape[2:], det[:, :4], im0.shape).round()\n",
    "\n",
    "                # Write results\n",
    "                for *xyxy, conf, cls in det:\n",
    "                    label = '%s %.2f' % (names[int(cls)], conf)\n",
    "                    plot_one_box(xyxy, im0, label=label, color=colors[int(cls)])\n",
    "\n",
    "        vid_writer.write(im0)\n",
    "        _, img0 = cap.read()\n",
    "\n",
    "    vid_writer.release()\n",
    "\n",
    "    return save_path\n"
   ]
  },
  {
   "cell_type": "code",
   "execution_count": 27,
   "metadata": {
    "colab": {
     "base_uri": "https://localhost:8080/"
    },
    "executionInfo": {
     "elapsed": 1039,
     "status": "ok",
     "timestamp": 1604647656899,
     "user": {
      "displayName": "Sarthak Rastogi",
      "photoUrl": "https://lh3.googleusercontent.com/a-/AOh14Gju2mNh-CIUs6e_EgYdv7eWpyCq5RUtF0XfW0PgJUM=s64",
      "userId": "13011506269675720653"
     },
     "user_tz": -330
    },
    "id": "_JuQI0cFvIw9",
    "outputId": "068ea264-cb39-4301-d0f6-c70f2b3cbea5"
   },
   "outputs": [
    {
     "name": "stdout",
     "output_type": "stream",
     "text": [
      "fatal: destination path 'yolov3-in-colab' already exists and is not an empty directory.\n"
     ]
    }
   ],
   "source": [
    "!git clone https://github.com/vindruid/yolov3-in-colab.git\n",
    "!cp -r \"yolov3-in-colab\"/input_video/* ./input_video/"
   ]
  },
  {
   "cell_type": "code",
   "execution_count": 28,
   "metadata": {
    "executionInfo": {
     "elapsed": 1048,
     "status": "ok",
     "timestamp": 1604647658798,
     "user": {
      "displayName": "Sarthak Rastogi",
      "photoUrl": "https://lh3.googleusercontent.com/a-/AOh14Gju2mNh-CIUs6e_EgYdv7eWpyCq5RUtF0XfW0PgJUM=s64",
      "userId": "13011506269675720653"
     },
     "user_tz": -330
    },
    "id": "nE6VUWgbvLJ6"
   },
   "outputs": [],
   "source": [
    "!mkdir -p input_video\n",
    "!mkdir -p output_compressed"
   ]
  },
  {
   "cell_type": "code",
   "execution_count": 33,
   "metadata": {
    "colab": {
     "base_uri": "https://localhost:8080/",
     "height": 246,
     "output_embedded_package_id": "1m0jDlQfSJgye2X3zwTnxahF4MBSfrMt5"
    },
    "executionInfo": {
     "elapsed": 14273,
     "status": "ok",
     "timestamp": 1604647733897,
     "user": {
      "displayName": "Sarthak Rastogi",
      "photoUrl": "https://lh3.googleusercontent.com/a-/AOh14Gju2mNh-CIUs6e_EgYdv7eWpyCq5RUtF0XfW0PgJUM=s64",
      "userId": "13011506269675720653"
     },
     "user_tz": -330
    },
    "id": "T2LgVjKvvNTv",
    "outputId": "3ecf4d14-c328-4158-a296-8e7a2428748d"
   },
   "outputs": [
    {
     "data": {
      "text/plain": [
       "Output hidden; open in https://colab.research.google.com to view."
      ]
     },
     "metadata": {},
     "output_type": "display_data"
    }
   ],
   "source": [
    "path_video = os.path.join(\"input_video\",\"thevideotoworkon.mp4\")\n",
    "save_path = predict_one_video(path_video)\n",
    "\n",
    "mp4 = open(path_video,'rb').read()\n",
    "data_url = \"data:video/mp4;base64,\" + b64encode(mp4).decode()\n",
    "HTML(\"\"\"\n",
    "<video width=400 controls>\n",
    "      <source src=\"%s\" type=\"video/mp4\">\n",
    "</video>\n",
    "\"\"\" % data_url)"
   ]
  },
  {
   "cell_type": "code",
   "execution_count": 34,
   "metadata": {
    "colab": {
     "base_uri": "https://localhost:8080/",
     "height": 246,
     "output_embedded_package_id": "1BXNpXv3VGGsrHowsobFQDIxAyVaNpWmH"
    },
    "executionInfo": {
     "elapsed": 24457,
     "status": "ok",
     "timestamp": 1604647759299,
     "user": {
      "displayName": "Sarthak Rastogi",
      "photoUrl": "https://lh3.googleusercontent.com/a-/AOh14Gju2mNh-CIUs6e_EgYdv7eWpyCq5RUtF0XfW0PgJUM=s64",
      "userId": "13011506269675720653"
     },
     "user_tz": -330
    },
    "id": "IJMx6A5pvPRK",
    "outputId": "651fd738-56c7-420b-fe2a-fc203c3e765a"
   },
   "outputs": [
    {
     "data": {
      "text/plain": [
       "Output hidden; open in https://colab.research.google.com to view."
      ]
     },
     "metadata": {},
     "output_type": "display_data"
    }
   ],
   "source": [
    "\n",
    "compressed_path = os.path.join(\"output_compressed\", os.path.split(save_path)[-1])\n",
    "os.system(f\"ffmpeg -i {save_path} -vcodec libx264 {compressed_path}\")\n",
    "\n",
    "mp4 = open(compressed_path,'rb').read()\n",
    "data_url = \"data:video/mp4;base64,\" + b64encode(mp4).decode()\n",
    "HTML(\"\"\"\n",
    "<video width=400 controls>\n",
    "      <source src=\"%s\" type=\"video/mp4\">\n",
    "</video>\n",
    "\"\"\" % data_url)"
   ]
  },
  {
   "cell_type": "code",
   "execution_count": null,
   "metadata": {
    "id": "uloF1DbWxEBH"
   },
   "outputs": [],
   "source": []
  }
 ],
 "metadata": {
  "accelerator": "GPU",
  "colab": {
   "authorship_tag": "ABX9TyOmAyasHgmxePsukd7uKJPK",
   "collapsed_sections": [],
   "name": "Object Detection.ipynb",
   "provenance": [],
   "toc_visible": true
  },
  "kernelspec": {
   "display_name": "Python 3",
   "language": "python",
   "name": "python3"
  },
  "language_info": {
   "codemirror_mode": {
    "name": "ipython",
    "version": 3
   },
   "file_extension": ".py",
   "mimetype": "text/x-python",
   "name": "python",
   "nbconvert_exporter": "python",
   "pygments_lexer": "ipython3",
   "version": "3.8.5"
  }
 },
 "nbformat": 4,
 "nbformat_minor": 1
}
